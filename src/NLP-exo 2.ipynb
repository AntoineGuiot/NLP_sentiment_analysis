{
 "cells": [
  {
   "cell_type": "code",
   "execution_count": 4,
   "metadata": {},
   "outputs": [],
   "source": [
    "import numpy as np\n",
    "import pandas as pd\n",
    "import nltk\n",
    "from nltk.corpus import stopwords\n",
    "from nltk.tokenize import word_tokenize \n",
    "from pathlib import Path\n",
    "from urllib.request import urlretrieve"
   ]
  },
  {
   "cell_type": "markdown",
   "metadata": {},
   "source": [
    "### Loading Data"
   ]
  },
  {
   "cell_type": "code",
   "execution_count": 5,
   "metadata": {},
   "outputs": [
    {
     "data": {
      "text/html": [
       "<div>\n",
       "<style scoped>\n",
       "    .dataframe tbody tr th:only-of-type {\n",
       "        vertical-align: middle;\n",
       "    }\n",
       "\n",
       "    .dataframe tbody tr th {\n",
       "        vertical-align: top;\n",
       "    }\n",
       "\n",
       "    .dataframe thead th {\n",
       "        text-align: right;\n",
       "    }\n",
       "</style>\n",
       "<table border=\"1\" class=\"dataframe\">\n",
       "  <thead>\n",
       "    <tr style=\"text-align: right;\">\n",
       "      <th></th>\n",
       "      <th>polarity</th>\n",
       "      <th>aspect_category</th>\n",
       "      <th>target_term</th>\n",
       "      <th>character_offset</th>\n",
       "      <th>sentence</th>\n",
       "    </tr>\n",
       "  </thead>\n",
       "  <tbody>\n",
       "    <tr>\n",
       "      <th>0</th>\n",
       "      <td>positive</td>\n",
       "      <td>AMBIENCE#GENERAL</td>\n",
       "      <td>seating</td>\n",
       "      <td>18:25</td>\n",
       "      <td>short and sweet – seating is great:it's romant...</td>\n",
       "    </tr>\n",
       "    <tr>\n",
       "      <th>1</th>\n",
       "      <td>positive</td>\n",
       "      <td>AMBIENCE#GENERAL</td>\n",
       "      <td>trattoria</td>\n",
       "      <td>25:34</td>\n",
       "      <td>This quaint and romantic trattoria is at the t...</td>\n",
       "    </tr>\n",
       "  </tbody>\n",
       "</table>\n",
       "</div>"
      ],
      "text/plain": [
       "   polarity   aspect_category target_term character_offset  \\\n",
       "0  positive  AMBIENCE#GENERAL     seating            18:25   \n",
       "1  positive  AMBIENCE#GENERAL   trattoria            25:34   \n",
       "\n",
       "                                            sentence  \n",
       "0  short and sweet – seating is great:it's romant...  \n",
       "1  This quaint and romantic trattoria is at the t...  "
      ]
     },
     "execution_count": 5,
     "metadata": {},
     "output_type": "execute_result"
    }
   ],
   "source": [
    "df_train=pd.read_csv(\"data/traindata.csv\",sep='\\t',header=None)\n",
    "df_train.columns=[\"polarity\",\"aspect_category\",\"target_term\",\"character_offset\",\"sentence\"]\n",
    "df_train.head(2)"
   ]
  },
  {
   "cell_type": "code",
   "execution_count": 6,
   "metadata": {
    "scrolled": true
   },
   "outputs": [
    {
     "data": {
      "text/html": [
       "<div>\n",
       "<style scoped>\n",
       "    .dataframe tbody tr th:only-of-type {\n",
       "        vertical-align: middle;\n",
       "    }\n",
       "\n",
       "    .dataframe tbody tr th {\n",
       "        vertical-align: top;\n",
       "    }\n",
       "\n",
       "    .dataframe thead th {\n",
       "        text-align: right;\n",
       "    }\n",
       "</style>\n",
       "<table border=\"1\" class=\"dataframe\">\n",
       "  <thead>\n",
       "    <tr style=\"text-align: right;\">\n",
       "      <th></th>\n",
       "      <th>polarity</th>\n",
       "      <th>aspect_category</th>\n",
       "      <th>target_term</th>\n",
       "      <th>character_offset</th>\n",
       "      <th>sentence</th>\n",
       "    </tr>\n",
       "  </thead>\n",
       "  <tbody>\n",
       "    <tr>\n",
       "      <th>0</th>\n",
       "      <td>positive</td>\n",
       "      <td>LOCATION#GENERAL</td>\n",
       "      <td>neighborhood</td>\n",
       "      <td>54:66</td>\n",
       "      <td>great food, great wine list, great service in ...</td>\n",
       "    </tr>\n",
       "    <tr>\n",
       "      <th>1</th>\n",
       "      <td>negative</td>\n",
       "      <td>RESTAURANT#GENERAL</td>\n",
       "      <td>place</td>\n",
       "      <td>15:20</td>\n",
       "      <td>I thought this place was totally overrated.</td>\n",
       "    </tr>\n",
       "  </tbody>\n",
       "</table>\n",
       "</div>"
      ],
      "text/plain": [
       "   polarity     aspect_category   target_term character_offset  \\\n",
       "0  positive    LOCATION#GENERAL  neighborhood            54:66   \n",
       "1  negative  RESTAURANT#GENERAL         place            15:20   \n",
       "\n",
       "                                            sentence  \n",
       "0  great food, great wine list, great service in ...  \n",
       "1        I thought this place was totally overrated.  "
      ]
     },
     "execution_count": 6,
     "metadata": {},
     "output_type": "execute_result"
    }
   ],
   "source": [
    "df_dev=pd.read_csv(\"data/devdata.csv\",sep='\\t',header=None)\n",
    "df_dev.columns=[\"polarity\",\"aspect_category\",\"target_term\",\"character_offset\",\"sentence\"]\n",
    "df_dev.head(2)"
   ]
  },
  {
   "cell_type": "code",
   "execution_count": 7,
   "metadata": {},
   "outputs": [
    {
     "data": {
      "text/html": [
       "<div>\n",
       "<style scoped>\n",
       "    .dataframe tbody tr th:only-of-type {\n",
       "        vertical-align: middle;\n",
       "    }\n",
       "\n",
       "    .dataframe tbody tr th {\n",
       "        vertical-align: top;\n",
       "    }\n",
       "\n",
       "    .dataframe thead th {\n",
       "        text-align: right;\n",
       "    }\n",
       "</style>\n",
       "<table border=\"1\" class=\"dataframe\">\n",
       "  <thead>\n",
       "    <tr style=\"text-align: right;\">\n",
       "      <th></th>\n",
       "      <th>polarity</th>\n",
       "      <th>aspect_category</th>\n",
       "      <th>target_term</th>\n",
       "      <th>character_offset</th>\n",
       "      <th>sentence</th>\n",
       "      <th>label</th>\n",
       "    </tr>\n",
       "  </thead>\n",
       "  <tbody>\n",
       "    <tr>\n",
       "      <th>0</th>\n",
       "      <td>positive</td>\n",
       "      <td>LOCATION#GENERAL</td>\n",
       "      <td>neighborhood</td>\n",
       "      <td>54:66</td>\n",
       "      <td>great food, great wine list, great service in ...</td>\n",
       "      <td>1</td>\n",
       "    </tr>\n",
       "    <tr>\n",
       "      <th>1</th>\n",
       "      <td>negative</td>\n",
       "      <td>RESTAURANT#GENERAL</td>\n",
       "      <td>place</td>\n",
       "      <td>15:20</td>\n",
       "      <td>I thought this place was totally overrated.</td>\n",
       "      <td>-1</td>\n",
       "    </tr>\n",
       "  </tbody>\n",
       "</table>\n",
       "</div>"
      ],
      "text/plain": [
       "   polarity     aspect_category   target_term character_offset  \\\n",
       "0  positive    LOCATION#GENERAL  neighborhood            54:66   \n",
       "1  negative  RESTAURANT#GENERAL         place            15:20   \n",
       "\n",
       "                                            sentence  label  \n",
       "0  great food, great wine list, great service in ...      1  \n",
       "1        I thought this place was totally overrated.     -1  "
      ]
     },
     "execution_count": 7,
     "metadata": {},
     "output_type": "execute_result"
    }
   ],
   "source": [
    "df_train[\"label\"]=df_train[\"polarity\"].apply(lambda x: 1 if x==\"positive\" else (0 if x==\"neutral\" else -1))\n",
    "df_dev[\"label\"]=df_dev[\"polarity\"].apply(lambda x: 1 if x==\"positive\" else (0 if x==\"neutral\" else -1))\n",
    "df_dev.head(2)"
   ]
  },
  {
   "cell_type": "markdown",
   "metadata": {},
   "source": [
    "### Word2vec"
   ]
  },
  {
   "cell_type": "code",
   "execution_count": 8,
   "metadata": {},
   "outputs": [
    {
     "ename": "KeyboardInterrupt",
     "evalue": "",
     "traceback": [
      "\u001b[0;31m---------------------------------------------------------------------------\u001b[0m",
      "\u001b[0;31mKeyboardInterrupt\u001b[0m                         Traceback (most recent call last)",
      "\u001b[0;32m<ipython-input-8-b41bbb17e6b3>\u001b[0m in \u001b[0;36m<module>\u001b[0;34m\u001b[0m\n\u001b[1;32m      3\u001b[0m \u001b[0men_embeddings_path\u001b[0m \u001b[0;34m=\u001b[0m \u001b[0mPATH_TO_DATA\u001b[0m \u001b[0;34m/\u001b[0m \u001b[0;34m'cc.en.300.vec.gz'\u001b[0m\u001b[0;34m\u001b[0m\u001b[0;34m\u001b[0m\u001b[0m\n\u001b[1;32m      4\u001b[0m \u001b[0;32mif\u001b[0m \u001b[0;32mnot\u001b[0m \u001b[0men_embeddings_path\u001b[0m\u001b[0;34m.\u001b[0m\u001b[0mexists\u001b[0m\u001b[0;34m(\u001b[0m\u001b[0;34m)\u001b[0m\u001b[0;34m:\u001b[0m\u001b[0;34m\u001b[0m\u001b[0;34m\u001b[0m\u001b[0m\n\u001b[0;32m----> 5\u001b[0;31m     \u001b[0murlretrieve\u001b[0m\u001b[0;34m(\u001b[0m\u001b[0;34m'https://dl.fbaipublicfiles.com/fasttext/vectors-crawl/cc.en.300.vec.gz'\u001b[0m\u001b[0;34m,\u001b[0m \u001b[0men_embeddings_path\u001b[0m\u001b[0;34m)\u001b[0m\u001b[0;34m\u001b[0m\u001b[0;34m\u001b[0m\u001b[0m\n\u001b[0m\u001b[1;32m      6\u001b[0m \u001b[0mfr_embeddings_path\u001b[0m \u001b[0;34m=\u001b[0m \u001b[0mPATH_TO_DATA\u001b[0m \u001b[0;34m/\u001b[0m \u001b[0;34m'cc.fr.300.vec.gz'\u001b[0m\u001b[0;34m\u001b[0m\u001b[0;34m\u001b[0m\u001b[0m\n\u001b[1;32m      7\u001b[0m \u001b[0;32mif\u001b[0m \u001b[0;32mnot\u001b[0m \u001b[0mfr_embeddings_path\u001b[0m\u001b[0;34m.\u001b[0m\u001b[0mexists\u001b[0m\u001b[0;34m(\u001b[0m\u001b[0;34m)\u001b[0m\u001b[0;34m:\u001b[0m\u001b[0;34m\u001b[0m\u001b[0;34m\u001b[0m\u001b[0m\n",
      "\u001b[0;32m/anaconda3/lib/python3.7/urllib/request.py\u001b[0m in \u001b[0;36murlretrieve\u001b[0;34m(url, filename, reporthook, data)\u001b[0m\n\u001b[1;32m    278\u001b[0m                     \u001b[0;32mbreak\u001b[0m\u001b[0;34m\u001b[0m\u001b[0;34m\u001b[0m\u001b[0m\n\u001b[1;32m    279\u001b[0m                 \u001b[0mread\u001b[0m \u001b[0;34m+=\u001b[0m \u001b[0mlen\u001b[0m\u001b[0;34m(\u001b[0m\u001b[0mblock\u001b[0m\u001b[0;34m)\u001b[0m\u001b[0;34m\u001b[0m\u001b[0;34m\u001b[0m\u001b[0m\n\u001b[0;32m--> 280\u001b[0;31m                 \u001b[0mtfp\u001b[0m\u001b[0;34m.\u001b[0m\u001b[0mwrite\u001b[0m\u001b[0;34m(\u001b[0m\u001b[0mblock\u001b[0m\u001b[0;34m)\u001b[0m\u001b[0;34m\u001b[0m\u001b[0;34m\u001b[0m\u001b[0m\n\u001b[0m\u001b[1;32m    281\u001b[0m                 \u001b[0mblocknum\u001b[0m \u001b[0;34m+=\u001b[0m \u001b[0;36m1\u001b[0m\u001b[0;34m\u001b[0m\u001b[0;34m\u001b[0m\u001b[0m\n\u001b[1;32m    282\u001b[0m                 \u001b[0;32mif\u001b[0m \u001b[0mreporthook\u001b[0m\u001b[0;34m:\u001b[0m\u001b[0;34m\u001b[0m\u001b[0;34m\u001b[0m\u001b[0m\n",
      "\u001b[0;31mKeyboardInterrupt\u001b[0m: "
     ],
     "output_type": "error"
    }
   ],
   "source": [
    "PATH_TO_DATA = Path('/Users/antoineguiot/Documents/OMA/NLP/NLP_exo_2/NLP-OMA/data')\n",
    "# Download word vectors, might take a few minutes and about ~3GB of storage space\n",
    "en_embeddings_path = PATH_TO_DATA / 'cc.en.300.vec.gz'\n",
    "if not en_embeddings_path.exists():\n",
    "    urlretrieve('https://dl.fbaipublicfiles.com/fasttext/vectors-crawl/cc.en.300.vec.gz', en_embeddings_path)\n",
    "fr_embeddings_path = PATH_TO_DATA / 'cc.fr.300.vec.gz'\n",
    "if not fr_embeddings_path.exists():\n",
    "    urlretrieve('https://dl.fbaipublicfiles.com/fasttext/vectors-crawl/cc.fr.300.vec.gz', fr_embeddings_path)"
   ]
  },
  {
   "cell_type": "code",
   "execution_count": 9,
   "metadata": {},
   "outputs": [],
   "source": [
    "from collections import defaultdict\n",
    "import gzip\n",
    "import numpy as np\n",
    "\n",
    "import difflib\n",
    "import re\n",
    "import numpy as n"
   ]
  },
  {
   "cell_type": "code",
   "execution_count": 10,
   "metadata": {},
   "outputs": [],
   "source": [
    "class Word2Vec():\n",
    "\n",
    "    def __init__(self, filepath, vocab_size=50000):\n",
    "        self.words, self.embeddings = self.load_wordvec(filepath, vocab_size)\n",
    "        # Mappings for O(1) retrieval:\n",
    "        self.word2id = {word: idx for idx, word in enumerate(self.words)}\n",
    "        self.id2word = {idx: word for idx, word in enumerate(self.words)}\n",
    "    \n",
    "    def load_wordvec(self, filepath, vocab_size):\n",
    "        assert str(filepath).endswith('.gz')\n",
    "        words = []\n",
    "        embeddings = []\n",
    "        with gzip.open(filepath, 'rt',encoding=\"utf8\") as f:  # Read compressed file directly\n",
    "            next(f)  # Skip header\n",
    "            for i, line in enumerate(f):\n",
    "                word, vec = line.split(' ', 1)\n",
    "                words.append(word)\n",
    "                embeddings.append(np.fromstring(vec, sep=' '))\n",
    "                if i == (vocab_size - 1):\n",
    "                    break\n",
    "        print('Loaded %s pretrained word vectors' % (len(words)))\n",
    "        return words, np.vstack(embeddings)\n",
    "    \n",
    "    def encode(self, word):\n",
    "        # Returns the 1D embedding of a given word\n",
    "        #return self.embeddings[self.word2id[word]]\n",
    "        try:\n",
    "            i = self.word2id[word]\n",
    "            return self.embeddings[i]\n",
    "        except:\n",
    "            try:\n",
    "                word = difflib.get_close_matches(word, self.words)[0]\n",
    "                i = self.word2id[word]\n",
    "            except:\n",
    "                return np.zeros((300))\n",
    "        return self.embeddings[i]\n",
    "    \n",
    "    def score(self, word1, word2):\n",
    "        # Return the cosine similarity: use np.dot & np.linalg.norm\n",
    "        code1=self.encode(word1)\n",
    "        code2=self.encode(word2)\n",
    "        return np.dot(code1,code2)/(np.linalg.norm(code1)*np.linalg.norm(code2))"
   ]
  },
  {
   "cell_type": "code",
   "execution_count": 13,
   "metadata": {},
   "outputs": [],
   "source": [
    "class BagOfWords():\n",
    "    def __init__(self, word2vec):\n",
    "        self.word2vec = word2vec\n",
    "    \n",
    "    def build_idf(self, sentences):\n",
    "        # build the idf dictionary: associate each word to its idf value\n",
    "        # -> idf = {word: idf_value, ...}\n",
    "        idf={}\n",
    "        N=len(sentences)\n",
    "        \n",
    "        # get number of documents containing each word\n",
    "        for sentence in sentences:\n",
    "            wordsList=re.sub(\"[^\\w]\", \" \",sentence).split()\n",
    "            for word in set(wordsList):\n",
    "                idf[word]=idf.get(word, 0)+1\n",
    "                \n",
    "        #transform to get idf value of each word       \n",
    "        for word in idf:\n",
    "            idf[word]=np.log10(N/idf[word])\n",
    "        return idf\n",
    "        \n",
    "    \n",
    "    def encode(self, sentence, ag_sentence = True, padding =25, idf=None):\n",
    "        \n",
    "        # Takes a sentence as input, returns the sentence embedding\n",
    "        wordsList=re.sub(\"[^\\w]\", \" \",sentence).split()\n",
    "        wordsVectors=[self.word2vec.encode(word) for word in wordsList]\n",
    "        \n",
    "        if ag_sentence==False:\n",
    "            wordsVectors = wordsVectors[0:padding]\n",
    "            wordsVectors = np.stack(wordsVectors, axis=0)\n",
    "            wordsVectors = np.pad(wordsVectors, [(0, padding-len(wordsVectors)),(0,0)], mode='constant')\n",
    "            return wordsVectors\n",
    "        \n",
    "        if idf is None:\n",
    "            # mean of word vectors\n",
    "            return np.mean(wordsVectors,axis=0)\n",
    "        else:\n",
    "            # idf-weighted mean of word vectors\n",
    "            weightedMean=0\n",
    "            sumIdf=0\n",
    "            for i,word in enumerate(wordsList):\n",
    "                weightedMean+=idf.get(word,0)*wordsVectors[i]\n",
    "                sumIdf+=idf.get(word,0)\n",
    "            weightedMean=weightedMean/sumIdf\n",
    "            return weightedMean\n",
    "                                \n",
    "\n",
    "    def score(self, sentence1, sentence2, idf=None):\n",
    "        # cosine similarity: use np.dot & np.linalg.norm \n",
    "        code1=self.encode(sentence1,idf)\n",
    "        code2=self.encode(sentence2,idf)\n",
    "        return np.dot(code1,code2)/(np.linalg.norm(code1)*np.linalg.norm(code2))"
   ]
  },
  {
   "cell_type": "code",
   "execution_count": 14,
   "metadata": {},
   "outputs": [
    {
     "name": "stdout",
     "output_type": "stream",
     "text": [
      "Loaded 50000 pretrained word vectors\n"
     ]
    }
   ],
   "source": [
    "word2vec = Word2Vec(en_embeddings_path, vocab_size=50000)\n",
    "sentence2vec = BagOfWords(word2vec)"
   ]
  },
  {
   "cell_type": "markdown",
   "metadata": {},
   "source": [
    "### First Model"
   ]
  },
  {
   "cell_type": "markdown",
   "metadata": {},
   "source": [
    "#### Encode full sentence with word2vec then classification (logreg)"
   ]
  },
  {
   "cell_type": "code",
   "execution_count": 138,
   "metadata": {},
   "outputs": [],
   "source": [
    "a=sentence2vec.encode(df_train[\"sentence\"][14], ag_sentence=False, padding=10)\n",
    "#word2vec.encode(df_train[\"sentence\"][1][0:4]).shape"
   ]
  },
  {
   "cell_type": "code",
   "execution_count": 34,
   "metadata": {},
   "outputs": [],
   "source": [
    "train_sentences_emb=[sentence2vec.encode(df_train[\"sentence\"][i]) for i in range(len(df_train[\"sentence\"]))]"
   ]
  },
  {
   "cell_type": "code",
   "execution_count": 46,
   "metadata": {},
   "outputs": [],
   "source": [
    "dev_sentences_emb=[sentence2vec.encode(df_dev[\"sentence\"][i]) for i in range(len(df_dev[\"sentence\"]))]"
   ]
  },
  {
   "cell_type": "code",
   "execution_count": 55,
   "metadata": {},
   "outputs": [
    {
     "name": "stdout",
     "output_type": "stream",
     "text": [
      "Results for mean BoW: \n",
      " Best value for the penalty: 10.0 \n",
      " Dev accuracy: 0.7686170212765957 \n",
      " Train accuracy: 0.8416500332667998\n"
     ]
    }
   ],
   "source": [
    "from sklearn.linear_model import LogisticRegression\n",
    "\n",
    "train_acc,dev_acc=[],[]\n",
    "pen_values = 10.0**(np.arange(-2,2,0.5))\n",
    "\n",
    "for pen in pen_values:\n",
    "    logReg = LogisticRegression(penalty=\"l2\",C = pen, multi_class='auto',solver='newton-cg')\n",
    "    logReg.fit(train_sentences_emb, df_train[\"label\"])\n",
    "    train_acc.append(logReg.score(train_sentences_emb, df_train[\"label\"]))\n",
    "    dev_acc.append(logReg.score(dev_sentences_emb, df_dev[\"label\"]))\n",
    "\n",
    "best_pen=pen_values[np.argmax(dev_acc)]\n",
    "best_train_acc=train_acc[np.argmax(dev_acc)]\n",
    "best_dev_acc=max(dev_acc)\n",
    "\n",
    "print(\"Results for mean BoW: \\n\",\"Best value for the penalty:\",best_pen,'\\n Dev accuracy:',best_dev_acc,'\\n Train accuracy:',best_train_acc)"
   ]
  },
  {
   "cell_type": "code",
   "execution_count": 57,
   "metadata": {},
   "outputs": [],
   "source": [
    "logReg = LogisticRegression(penalty=\"l2\",C = 10, multi_class='auto',solver='newton-cg')"
   ]
  },
  {
   "cell_type": "code",
   "execution_count": 69,
   "metadata": {},
   "outputs": [],
   "source": [
    "logReg.fit(train_sentences_emb, df_train[\"label\"])\n",
    "logReg.predict(dev_sentences_emb);"
   ]
  },
  {
   "cell_type": "markdown",
   "metadata": {},
   "source": [
    "### 2nd Model"
   ]
  },
  {
   "cell_type": "markdown",
   "metadata": {},
   "source": [
    "#### Same but remove target term and stopwords from sentence"
   ]
  },
  {
   "cell_type": "code",
   "execution_count": 196,
   "metadata": {},
   "outputs": [],
   "source": [
    "sentence_red=[0]*len(df_train)\n",
    "for i in range(len(df_train)):\n",
    "    sentence_red[i]=df_train[\"sentence\"][i][:int(df_train[\"character_offset\"][i].split(\":\")[0])]+df_train[\"sentence\"][i][int(df_train[\"character_offset\"][i].split(\":\")[1]):]\n",
    "df_train[\"sentence_red\"]=sentence_red\n",
    "\n",
    "sentence_red=[0]*len(df_dev)\n",
    "for i in range(len(df_dev)):\n",
    "    sentence_red[i]=df_dev[\"sentence\"][i][:int(df_dev[\"character_offset\"][i].split(\":\")[0])]+df_dev[\"sentence\"][i][int(df_dev[\"character_offset\"][i].split(\":\")[1]):]\n",
    "df_dev[\"sentence_red\"]=sentence_red"
   ]
  },
  {
   "cell_type": "code",
   "execution_count": 197,
   "metadata": {},
   "outputs": [
    {
     "data": {
      "text/html": [
       "<div>\n",
       "<style scoped>\n",
       "    .dataframe tbody tr th:only-of-type {\n",
       "        vertical-align: middle;\n",
       "    }\n",
       "\n",
       "    .dataframe tbody tr th {\n",
       "        vertical-align: top;\n",
       "    }\n",
       "\n",
       "    .dataframe thead th {\n",
       "        text-align: right;\n",
       "    }\n",
       "</style>\n",
       "<table border=\"1\" class=\"dataframe\">\n",
       "  <thead>\n",
       "    <tr style=\"text-align: right;\">\n",
       "      <th></th>\n",
       "      <th>polarity</th>\n",
       "      <th>aspect_category</th>\n",
       "      <th>target_term</th>\n",
       "      <th>character_offset</th>\n",
       "      <th>sentence</th>\n",
       "      <th>label</th>\n",
       "      <th>sentence_red</th>\n",
       "    </tr>\n",
       "  </thead>\n",
       "  <tbody>\n",
       "    <tr>\n",
       "      <th>0</th>\n",
       "      <td>positive</td>\n",
       "      <td>AMBIENCE#GENERAL</td>\n",
       "      <td>seating</td>\n",
       "      <td>18:25</td>\n",
       "      <td>short and sweet – seating is great:it's romant...</td>\n",
       "      <td>1</td>\n",
       "      <td>short and sweet –  is great:it's romantic,cozy...</td>\n",
       "    </tr>\n",
       "    <tr>\n",
       "      <th>1</th>\n",
       "      <td>positive</td>\n",
       "      <td>AMBIENCE#GENERAL</td>\n",
       "      <td>trattoria</td>\n",
       "      <td>25:34</td>\n",
       "      <td>This quaint and romantic trattoria is at the t...</td>\n",
       "      <td>1</td>\n",
       "      <td>This quaint and romantic  is at the top of my ...</td>\n",
       "    </tr>\n",
       "  </tbody>\n",
       "</table>\n",
       "</div>"
      ],
      "text/plain": [
       "   polarity   aspect_category target_term character_offset  \\\n",
       "0  positive  AMBIENCE#GENERAL     seating            18:25   \n",
       "1  positive  AMBIENCE#GENERAL   trattoria            25:34   \n",
       "\n",
       "                                            sentence  label  \\\n",
       "0  short and sweet – seating is great:it's romant...      1   \n",
       "1  This quaint and romantic trattoria is at the t...      1   \n",
       "\n",
       "                                        sentence_red  \n",
       "0  short and sweet –  is great:it's romantic,cozy...  \n",
       "1  This quaint and romantic  is at the top of my ...  "
      ]
     },
     "execution_count": 197,
     "metadata": {},
     "output_type": "execute_result"
    }
   ],
   "source": [
    "df_train.head(2)"
   ]
  },
  {
   "cell_type": "code",
   "execution_count": 198,
   "metadata": {},
   "outputs": [],
   "source": [
    "stop_words = set(stopwords.words('english')) \n",
    "stop_words.remove(\"not\")\n",
    "stop_words.remove(\"no\")\n",
    "\n",
    "def remove_stopwords(sentence):\n",
    "    sentence = sentence.lower()\n",
    "    sentence_tok = word_tokenize(sentence)\n",
    "    sentence_f = \"\"\n",
    "    for i in range(len(sentence_tok)):\n",
    "        w=sentence_tok[i]\n",
    "        if w not in stop_words:\n",
    "            if i==len(sentence_tok)-1:\n",
    "                sentence_f+=w\n",
    "            else:\n",
    "                sentence_f+=w+\" \"\n",
    "    if len(sentence_f)<2:\n",
    "        sentence_f = sentence\n",
    "    return sentence_f"
   ]
  },
  {
   "cell_type": "code",
   "execution_count": 199,
   "metadata": {},
   "outputs": [
    {
     "data": {
      "text/html": [
       "<div>\n",
       "<style scoped>\n",
       "    .dataframe tbody tr th:only-of-type {\n",
       "        vertical-align: middle;\n",
       "    }\n",
       "\n",
       "    .dataframe tbody tr th {\n",
       "        vertical-align: top;\n",
       "    }\n",
       "\n",
       "    .dataframe thead th {\n",
       "        text-align: right;\n",
       "    }\n",
       "</style>\n",
       "<table border=\"1\" class=\"dataframe\">\n",
       "  <thead>\n",
       "    <tr style=\"text-align: right;\">\n",
       "      <th></th>\n",
       "      <th>polarity</th>\n",
       "      <th>aspect_category</th>\n",
       "      <th>target_term</th>\n",
       "      <th>character_offset</th>\n",
       "      <th>sentence</th>\n",
       "      <th>label</th>\n",
       "      <th>sentence_red</th>\n",
       "    </tr>\n",
       "  </thead>\n",
       "  <tbody>\n",
       "    <tr>\n",
       "      <th>0</th>\n",
       "      <td>positive</td>\n",
       "      <td>AMBIENCE#GENERAL</td>\n",
       "      <td>seating</td>\n",
       "      <td>18:25</td>\n",
       "      <td>short and sweet – seating is great:it's romant...</td>\n",
       "      <td>1</td>\n",
       "      <td>short sweet – great : 's romantic , cozy priva...</td>\n",
       "    </tr>\n",
       "    <tr>\n",
       "      <th>1</th>\n",
       "      <td>positive</td>\n",
       "      <td>AMBIENCE#GENERAL</td>\n",
       "      <td>trattoria</td>\n",
       "      <td>25:34</td>\n",
       "      <td>This quaint and romantic trattoria is at the t...</td>\n",
       "      <td>1</td>\n",
       "      <td>quaint romantic top manhattan restaurant list .</td>\n",
       "    </tr>\n",
       "  </tbody>\n",
       "</table>\n",
       "</div>"
      ],
      "text/plain": [
       "   polarity   aspect_category target_term character_offset  \\\n",
       "0  positive  AMBIENCE#GENERAL     seating            18:25   \n",
       "1  positive  AMBIENCE#GENERAL   trattoria            25:34   \n",
       "\n",
       "                                            sentence  label  \\\n",
       "0  short and sweet – seating is great:it's romant...      1   \n",
       "1  This quaint and romantic trattoria is at the t...      1   \n",
       "\n",
       "                                        sentence_red  \n",
       "0  short sweet – great : 's romantic , cozy priva...  \n",
       "1    quaint romantic top manhattan restaurant list .  "
      ]
     },
     "execution_count": 199,
     "metadata": {},
     "output_type": "execute_result"
    }
   ],
   "source": [
    "df_train[\"sentence_red\"]=df_train[\"sentence_red\"].apply(lambda x:remove_stopwords(x))\n",
    "df_dev[\"sentence_red\"]=df_dev[\"sentence_red\"].apply(lambda x:remove_stopwords(x))\n",
    "df_train.head(2)"
   ]
  },
  {
   "cell_type": "code",
   "execution_count": 201,
   "metadata": {},
   "outputs": [],
   "source": [
    "train_sentences_emb2=[sentence2vec.encode(df_train[\"sentence_red\"][i]) for i in range(len(df_train[\"sentence_red\"]))]"
   ]
  },
  {
   "cell_type": "code",
   "execution_count": 202,
   "metadata": {},
   "outputs": [],
   "source": [
    "dev_sentences_emb2=[sentence2vec.encode(df_dev[\"sentence_red\"][i]) for i in range(len(df_dev[\"sentence_red\"]))]"
   ]
  },
  {
   "cell_type": "code",
   "execution_count": 203,
   "metadata": {},
   "outputs": [
    {
     "name": "stdout",
     "output_type": "stream",
     "text": [
      "Results for mean BoW: \n",
      " Best value for the penalty: 10.0 \n",
      " Dev accuracy: 0.7978723404255319 \n",
      " Train accuracy: 0.8642714570858283\n"
     ]
    }
   ],
   "source": [
    "from sklearn.linear_model import LogisticRegression\n",
    "\n",
    "train_acc,dev_acc=[],[]\n",
    "pen_values = 10.0**(np.arange(-2,2,0.5))\n",
    "\n",
    "for pen in pen_values:\n",
    "    logReg = LogisticRegression(penalty=\"l2\",C = pen, multi_class='auto',solver='newton-cg')\n",
    "    logReg.fit(train_sentences_emb2, df_train[\"label\"])\n",
    "    train_acc.append(logReg.score(train_sentences_emb2, df_train[\"label\"]))\n",
    "    dev_acc.append(logReg.score(dev_sentences_emb2, df_dev[\"label\"]))\n",
    "\n",
    "best_pen=pen_values[np.argmax(dev_acc)]\n",
    "best_train_acc=train_acc[np.argmax(dev_acc)]\n",
    "best_dev_acc=max(dev_acc)\n",
    "\n",
    "print(\"Results for mean BoW: \\n\",\"Best value for the penalty:\",best_pen,'\\n Dev accuracy:',best_dev_acc,'\\n Train accuracy:',best_train_acc)"
   ]
  },
  {
   "cell_type": "markdown",
   "metadata": {},
   "source": [
    "3 rd model "
   ]
  },
  {
   "cell_type": "code",
   "execution_count": 34,
   "metadata": {},
   "outputs": [],
   "source": [
    "df_train['cat_'] = df_train['aspect_category'].astype(\"category\").cat.codes"
   ]
  },
  {
   "cell_type": "code",
   "execution_count": 44,
   "metadata": {},
   "outputs": [],
   "source": [
    "from sklearn.preprocessing import OneHotEncoder\n",
    "enc = OneHotEncoder(handle_unknown='ignore')\n",
    "\n",
    "enc.fit(df_train['aspect_category'].values.reshape(-1, 1))\n",
    "categories_train = enc.transform(df_train['aspect_category'].values.reshape(-1, 1))\n",
    "categories_dev = enc.transform(df_dev['aspect_category'].values.reshape(-1, 1))"
   ]
  },
  {
   "cell_type": "code",
   "execution_count": 64,
   "metadata": {},
   "outputs": [
    {
     "data": {
      "text/html": [
       "<div>\n",
       "<style scoped>\n",
       "    .dataframe tbody tr th:only-of-type {\n",
       "        vertical-align: middle;\n",
       "    }\n",
       "\n",
       "    .dataframe tbody tr th {\n",
       "        vertical-align: top;\n",
       "    }\n",
       "\n",
       "    .dataframe thead th {\n",
       "        text-align: right;\n",
       "    }\n",
       "</style>\n",
       "<table border=\"1\" class=\"dataframe\">\n",
       "  <thead>\n",
       "    <tr style=\"text-align: right;\">\n",
       "      <th></th>\n",
       "      <th>polarity</th>\n",
       "      <th>aspect_category</th>\n",
       "      <th>target_term</th>\n",
       "      <th>character_offset</th>\n",
       "      <th>sentence</th>\n",
       "      <th>label</th>\n",
       "      <th>cat_</th>\n",
       "    </tr>\n",
       "  </thead>\n",
       "  <tbody>\n",
       "    <tr>\n",
       "      <th>0</th>\n",
       "      <td>positive</td>\n",
       "      <td>AMBIENCE#GENERAL</td>\n",
       "      <td>seating</td>\n",
       "      <td>18:25</td>\n",
       "      <td>short and sweet – seating is great:it's romant...</td>\n",
       "      <td>1</td>\n",
       "      <td>0</td>\n",
       "    </tr>\n",
       "    <tr>\n",
       "      <th>1</th>\n",
       "      <td>positive</td>\n",
       "      <td>AMBIENCE#GENERAL</td>\n",
       "      <td>trattoria</td>\n",
       "      <td>25:34</td>\n",
       "      <td>This quaint and romantic trattoria is at the t...</td>\n",
       "      <td>1</td>\n",
       "      <td>0</td>\n",
       "    </tr>\n",
       "    <tr>\n",
       "      <th>2</th>\n",
       "      <td>positive</td>\n",
       "      <td>FOOD#QUALITY</td>\n",
       "      <td>food</td>\n",
       "      <td>98:102</td>\n",
       "      <td>The have over 100 different beers to offer thi...</td>\n",
       "      <td>1</td>\n",
       "      <td>5</td>\n",
       "    </tr>\n",
       "    <tr>\n",
       "      <th>3</th>\n",
       "      <td>negative</td>\n",
       "      <td>SERVICE#GENERAL</td>\n",
       "      <td>STAFF</td>\n",
       "      <td>5:10</td>\n",
       "      <td>THIS STAFF SHOULD BE FIRED.</td>\n",
       "      <td>-1</td>\n",
       "      <td>11</td>\n",
       "    </tr>\n",
       "    <tr>\n",
       "      <th>4</th>\n",
       "      <td>positive</td>\n",
       "      <td>FOOD#STYLE_OPTIONS</td>\n",
       "      <td>menu</td>\n",
       "      <td>4:8</td>\n",
       "      <td>The menu looked great, and the waiter was very...</td>\n",
       "      <td>1</td>\n",
       "      <td>6</td>\n",
       "    </tr>\n",
       "    <tr>\n",
       "      <th>...</th>\n",
       "      <td>...</td>\n",
       "      <td>...</td>\n",
       "      <td>...</td>\n",
       "      <td>...</td>\n",
       "      <td>...</td>\n",
       "      <td>...</td>\n",
       "      <td>...</td>\n",
       "    </tr>\n",
       "    <tr>\n",
       "      <th>1498</th>\n",
       "      <td>positive</td>\n",
       "      <td>DRINKS#QUALITY</td>\n",
       "      <td>expresso</td>\n",
       "      <td>29:37</td>\n",
       "      <td>One of us actually liked the expresso - that's...</td>\n",
       "      <td>1</td>\n",
       "      <td>2</td>\n",
       "    </tr>\n",
       "    <tr>\n",
       "      <th>1499</th>\n",
       "      <td>negative</td>\n",
       "      <td>SERVICE#GENERAL</td>\n",
       "      <td>waitress</td>\n",
       "      <td>20:28</td>\n",
       "      <td>The hostess and the waitress were incredibly r...</td>\n",
       "      <td>-1</td>\n",
       "      <td>11</td>\n",
       "    </tr>\n",
       "    <tr>\n",
       "      <th>1500</th>\n",
       "      <td>positive</td>\n",
       "      <td>RESTAURANT#PRICES</td>\n",
       "      <td>place</td>\n",
       "      <td>12:17</td>\n",
       "      <td>this little place has a cute interior decor an...</td>\n",
       "      <td>1</td>\n",
       "      <td>10</td>\n",
       "    </tr>\n",
       "    <tr>\n",
       "      <th>1501</th>\n",
       "      <td>positive</td>\n",
       "      <td>RESTAURANT#GENERAL</td>\n",
       "      <td>restaurant</td>\n",
       "      <td>30:40</td>\n",
       "      <td>Nice Family owned traditional restaurant.</td>\n",
       "      <td>1</td>\n",
       "      <td>8</td>\n",
       "    </tr>\n",
       "    <tr>\n",
       "      <th>1502</th>\n",
       "      <td>positive</td>\n",
       "      <td>AMBIENCE#GENERAL</td>\n",
       "      <td>atmosphere</td>\n",
       "      <td>74:84</td>\n",
       "      <td>The first time I went, and was completely take...</td>\n",
       "      <td>1</td>\n",
       "      <td>0</td>\n",
       "    </tr>\n",
       "  </tbody>\n",
       "</table>\n",
       "<p>1503 rows × 7 columns</p>\n",
       "</div>"
      ],
      "text/plain": [
       "      polarity     aspect_category target_term character_offset  \\\n",
       "0     positive    AMBIENCE#GENERAL     seating            18:25   \n",
       "1     positive    AMBIENCE#GENERAL   trattoria            25:34   \n",
       "2     positive        FOOD#QUALITY        food           98:102   \n",
       "3     negative     SERVICE#GENERAL       STAFF             5:10   \n",
       "4     positive  FOOD#STYLE_OPTIONS        menu              4:8   \n",
       "...        ...                 ...         ...              ...   \n",
       "1498  positive      DRINKS#QUALITY    expresso            29:37   \n",
       "1499  negative     SERVICE#GENERAL    waitress            20:28   \n",
       "1500  positive   RESTAURANT#PRICES       place            12:17   \n",
       "1501  positive  RESTAURANT#GENERAL  restaurant            30:40   \n",
       "1502  positive    AMBIENCE#GENERAL  atmosphere            74:84   \n",
       "\n",
       "                                               sentence  label  cat_  \n",
       "0     short and sweet – seating is great:it's romant...      1     0  \n",
       "1     This quaint and romantic trattoria is at the t...      1     0  \n",
       "2     The have over 100 different beers to offer thi...      1     5  \n",
       "3                           THIS STAFF SHOULD BE FIRED.     -1    11  \n",
       "4     The menu looked great, and the waiter was very...      1     6  \n",
       "...                                                 ...    ...   ...  \n",
       "1498  One of us actually liked the expresso - that's...      1     2  \n",
       "1499  The hostess and the waitress were incredibly r...     -1    11  \n",
       "1500  this little place has a cute interior decor an...      1    10  \n",
       "1501          Nice Family owned traditional restaurant.      1     8  \n",
       "1502  The first time I went, and was completely take...      1     0  \n",
       "\n",
       "[1503 rows x 7 columns]"
      ]
     },
     "execution_count": 64,
     "metadata": {},
     "output_type": "execute_result"
    }
   ],
   "source": [
    "df_train"
   ]
  },
  {
   "cell_type": "code",
   "execution_count": 15,
   "metadata": {},
   "outputs": [],
   "source": [
    "a=sentence2vec.encode(df_train[\"sentence\"][14], ag_sentence=False, padding=100)"
   ]
  },
  {
   "cell_type": "code",
   "execution_count": 16,
   "metadata": {},
   "outputs": [],
   "source": [
    "train_sentences_emb3=[sentence2vec.encode(df_train[\"sentence\"][i], ag_sentence=False, padding=50) for i in range(len(df_train[\"sentence\"]))]"
   ]
  },
  {
   "cell_type": "code",
   "execution_count": 17,
   "metadata": {},
   "outputs": [],
   "source": [
    "dev_sentences_emb3=[sentence2vec.encode(df_dev[\"sentence\"][i], ag_sentence=False, padding=50) for i in range(len(df_dev[\"sentence\"]))]"
   ]
  },
  {
   "cell_type": "code",
   "execution_count": 18,
   "metadata": {},
   "outputs": [],
   "source": [
    "train_sentences_emb3 = np.stack(train_sentences_emb3)\n",
    "dev_sentences_emb3 = np.stack(dev_sentences_emb3)"
   ]
  },
  {
   "cell_type": "code",
   "execution_count": 74,
   "metadata": {},
   "outputs": [
    {
     "name": "stdout",
     "output_type": "stream",
     "text": [
      "Model: \"model_7\"\n",
      "__________________________________________________________________________________________________\n",
      "Layer (type)                    Output Shape         Param #     Connected to                     \n",
      "==================================================================================================\n",
      "input_16 (InputLayer)           [(None, 50, 300)]    0                                            \n",
      "__________________________________________________________________________________________________\n",
      "dense_21 (Dense)                (None, 50, 16)       4816        input_16[0][0]                   \n",
      "__________________________________________________________________________________________________\n",
      "input_17 (InputLayer)           [(None, 12)]         0                                            \n",
      "__________________________________________________________________________________________________\n",
      "unified_lstm_7 (UnifiedLSTM)    (None, 16)           2112        dense_21[0][0]                   \n",
      "__________________________________________________________________________________________________\n",
      "dense_20 (Dense)                (None, 16)           208         input_17[0][0]                   \n",
      "__________________________________________________________________________________________________\n",
      "concatenate_6 (Concatenate)     (None, 32)           0           unified_lstm_7[0][0]             \n",
      "                                                                 dense_20[0][0]                   \n",
      "__________________________________________________________________________________________________\n",
      "dense_22 (Dense)                (None, 3)            99          concatenate_6[0][0]              \n",
      "==================================================================================================\n",
      "Total params: 7,235\n",
      "Trainable params: 7,235\n",
      "Non-trainable params: 0\n",
      "__________________________________________________________________________________________________\n"
     ]
    }
   ],
   "source": [
    "import tensorflow\n",
    "from tensorflow.keras.models import Sequential, Model\n",
    "from tensorflow.keras.layers import Dense, Activation, LSTM, Input, concatenate, Flatten, Reshape\n",
    "from sklearn.metrics import mean_squared_error\n",
    "inputA = Input(shape=(50, 300))\n",
    "inputB = Input(shape=(12,))\n",
    "y = Dense((16), activation='relu')(inputB)\n",
    "\n",
    "x = Dense((16), activation=\"relu\")(inputA)\n",
    "x = LSTM(16, return_sequences=False, input_shape=(50, 300), go_backwards=True)(x)\n",
    "z = concatenate([x,y])\n",
    "output = Dense(3, activation='sigmoid')(z)\n",
    "\n",
    "model = Model(inputs=[inputA, inputB], outputs=output)\n",
    "model.compile(loss='categorical_crossentropy', optimizer='adam')\n",
    "model.summary()  # show the summary of this model in logs"
   ]
  },
  {
   "cell_type": "code",
   "execution_count": 75,
   "metadata": {},
   "outputs": [
    {
     "name": "stdout",
     "output_type": "stream",
     "text": [
      "Train on 1503 samples, validate on 376 samples\n",
      "Epoch 1/70\n",
      "1503/1503 [==============================] - 1s 800us/sample - loss: 1.0681 - val_loss: 1.0223\n",
      "Epoch 2/70\n",
      "1503/1503 [==============================] - 1s 386us/sample - loss: 0.9769 - val_loss: 0.9019\n",
      "Epoch 3/70\n",
      "1503/1503 [==============================] - 1s 383us/sample - loss: 0.8460 - val_loss: 0.7740\n",
      "Epoch 4/70\n",
      "1503/1503 [==============================] - 1s 377us/sample - loss: 0.7496 - val_loss: 0.7269\n",
      "Epoch 5/70\n",
      "1503/1503 [==============================] - 1s 403us/sample - loss: 0.7236 - val_loss: 0.7199\n",
      "Epoch 6/70\n",
      "1503/1503 [==============================] - 1s 588us/sample - loss: 0.7206 - val_loss: 0.7191\n",
      "Epoch 7/70\n",
      "1503/1503 [==============================] - 1s 510us/sample - loss: 0.7183 - val_loss: 0.7178\n",
      "Epoch 8/70\n",
      "1503/1503 [==============================] - 1s 521us/sample - loss: 0.7169 - val_loss: 0.7167\n",
      "Epoch 9/70\n",
      "1503/1503 [==============================] - 1s 468us/sample - loss: 0.7150 - val_loss: 0.7161\n",
      "Epoch 10/70\n",
      "1503/1503 [==============================] - 1s 461us/sample - loss: 0.7142 - val_loss: 0.7155\n",
      "Epoch 11/70\n",
      "1503/1503 [==============================] - 1s 395us/sample - loss: 0.7127 - val_loss: 0.7151\n",
      "Epoch 12/70\n",
      "1503/1503 [==============================] - 1s 455us/sample - loss: 0.7112 - val_loss: 0.7145\n",
      "Epoch 13/70\n",
      "1503/1503 [==============================] - 1s 393us/sample - loss: 0.7099 - val_loss: 0.7136\n",
      "Epoch 14/70\n",
      "1503/1503 [==============================] - 1s 403us/sample - loss: 0.7084 - val_loss: 0.7129\n",
      "Epoch 15/70\n",
      "1503/1503 [==============================] - 1s 409us/sample - loss: 0.7068 - val_loss: 0.7121\n",
      "Epoch 16/70\n",
      "1503/1503 [==============================] - 1s 397us/sample - loss: 0.7055 - val_loss: 0.7113\n",
      "Epoch 17/70\n",
      "1503/1503 [==============================] - 1s 392us/sample - loss: 0.7034 - val_loss: 0.7102\n",
      "Epoch 18/70\n",
      "1503/1503 [==============================] - 1s 382us/sample - loss: 0.7012 - val_loss: 0.7088\n",
      "Epoch 19/70\n",
      "1503/1503 [==============================] - 1s 394us/sample - loss: 0.6986 - val_loss: 0.7068\n",
      "Epoch 20/70\n",
      "1503/1503 [==============================] - 1s 404us/sample - loss: 0.6937 - val_loss: 0.7013\n",
      "Epoch 21/70\n",
      "1503/1503 [==============================] - 1s 402us/sample - loss: 0.6858 - val_loss: 0.6943\n",
      "Epoch 22/70\n",
      "1503/1503 [==============================] - 1s 398us/sample - loss: 0.6745 - val_loss: 0.6895\n",
      "Epoch 23/70\n",
      "1503/1503 [==============================] - 1s 390us/sample - loss: 0.6635 - val_loss: 0.6768\n",
      "Epoch 24/70\n",
      "1503/1503 [==============================] - 1s 404us/sample - loss: 0.6428 - val_loss: 0.6580\n",
      "Epoch 25/70\n",
      "1503/1503 [==============================] - 1s 405us/sample - loss: 0.6131 - val_loss: 0.6356\n",
      "Epoch 26/70\n",
      "1503/1503 [==============================] - 1s 408us/sample - loss: 0.5805 - val_loss: 0.6091\n",
      "Epoch 27/70\n",
      "1503/1503 [==============================] - 1s 407us/sample - loss: 0.5564 - val_loss: 0.5912\n",
      "Epoch 28/70\n",
      "1503/1503 [==============================] - 1s 400us/sample - loss: 0.5249 - val_loss: 0.5791\n",
      "Epoch 29/70\n",
      "1503/1503 [==============================] - 1s 398us/sample - loss: 0.5136 - val_loss: 0.5877\n",
      "Epoch 30/70\n",
      "1503/1503 [==============================] - 1s 396us/sample - loss: 0.5036 - val_loss: 0.5695\n",
      "Epoch 31/70\n",
      "1503/1503 [==============================] - 1s 390us/sample - loss: 0.4728 - val_loss: 0.5494\n",
      "Epoch 32/70\n",
      "1503/1503 [==============================] - 1s 391us/sample - loss: 0.4665 - val_loss: 0.5559\n",
      "Epoch 33/70\n",
      "1503/1503 [==============================] - 1s 374us/sample - loss: 0.4484 - val_loss: 0.5536\n",
      "Epoch 34/70\n",
      "1503/1503 [==============================] - 1s 426us/sample - loss: 0.4343 - val_loss: 0.5558\n",
      "Epoch 35/70\n",
      "1503/1503 [==============================] - 1s 396us/sample - loss: 0.4312 - val_loss: 0.5506\n",
      "Epoch 36/70\n",
      "1503/1503 [==============================] - 1s 390us/sample - loss: 0.4196 - val_loss: 0.5722\n",
      "Epoch 37/70\n",
      "1503/1503 [==============================] - 1s 394us/sample - loss: 0.4317 - val_loss: 0.5502\n",
      "Epoch 38/70\n",
      "1503/1503 [==============================] - 1s 393us/sample - loss: 0.4110 - val_loss: 0.5391\n",
      "Epoch 39/70\n",
      "1503/1503 [==============================] - 1s 397us/sample - loss: 0.4126 - val_loss: 0.5427\n",
      "Epoch 40/70\n",
      "1503/1503 [==============================] - 1s 394us/sample - loss: 0.4040 - val_loss: 0.5425\n",
      "Epoch 41/70\n",
      "1503/1503 [==============================] - 1s 396us/sample - loss: 0.4029 - val_loss: 0.5550\n",
      "Epoch 42/70\n",
      "1503/1503 [==============================] - 1s 391us/sample - loss: 0.4018 - val_loss: 0.5343\n",
      "Epoch 43/70\n",
      "1503/1503 [==============================] - 1s 405us/sample - loss: 0.3989 - val_loss: 0.5514\n",
      "Epoch 44/70\n",
      "1503/1503 [==============================] - 1s 404us/sample - loss: 0.3929 - val_loss: 0.5464\n",
      "Epoch 45/70\n",
      "1503/1503 [==============================] - 1s 482us/sample - loss: 0.3845 - val_loss: 0.5470\n",
      "Epoch 46/70\n",
      "1503/1503 [==============================] - 1s 397us/sample - loss: 0.3871 - val_loss: 0.5421\n",
      "Epoch 47/70\n",
      "1503/1503 [==============================] - 1s 393us/sample - loss: 0.3858 - val_loss: 0.5437\n",
      "Epoch 48/70\n",
      "1503/1503 [==============================] - 1s 393us/sample - loss: 0.3864 - val_loss: 0.5567\n",
      "Epoch 49/70\n",
      "1503/1503 [==============================] - 1s 392us/sample - loss: 0.4022 - val_loss: 0.5439\n",
      "Epoch 50/70\n",
      "1503/1503 [==============================] - 1s 400us/sample - loss: 0.3833 - val_loss: 0.5625\n",
      "Epoch 51/70\n",
      "1503/1503 [==============================] - 1s 396us/sample - loss: 0.3708 - val_loss: 0.5445\n",
      "Epoch 52/70\n",
      "1503/1503 [==============================] - 1s 390us/sample - loss: 0.3707 - val_loss: 0.5424\n",
      "Epoch 53/70\n",
      "1503/1503 [==============================] - 1s 395us/sample - loss: 0.3631 - val_loss: 0.5515\n",
      "Epoch 54/70\n",
      "1503/1503 [==============================] - 1s 397us/sample - loss: 0.3619 - val_loss: 0.5433\n",
      "Epoch 55/70\n",
      "1503/1503 [==============================] - 1s 508us/sample - loss: 0.3579 - val_loss: 0.5512\n",
      "Epoch 56/70\n",
      "1503/1503 [==============================] - 1s 538us/sample - loss: 0.3559 - val_loss: 0.5466\n",
      "Epoch 57/70\n",
      "1503/1503 [==============================] - 1s 431us/sample - loss: 0.3544 - val_loss: 0.5500\n",
      "Epoch 58/70\n",
      "1503/1503 [==============================] - 1s 394us/sample - loss: 0.3513 - val_loss: 0.5539\n",
      "Epoch 59/70\n",
      "1503/1503 [==============================] - 1s 408us/sample - loss: 0.3529 - val_loss: 0.5967\n",
      "Epoch 60/70\n",
      "1503/1503 [==============================] - 1s 400us/sample - loss: 0.3927 - val_loss: 0.5872\n",
      "Epoch 61/70\n",
      "1503/1503 [==============================] - 1s 386us/sample - loss: 0.3698 - val_loss: 0.5552\n",
      "Epoch 62/70\n",
      "1503/1503 [==============================] - 1s 392us/sample - loss: 0.3733 - val_loss: 0.5651\n",
      "Epoch 63/70\n",
      "1503/1503 [==============================] - 1s 393us/sample - loss: 0.3722 - val_loss: 0.5539\n",
      "Epoch 64/70\n",
      "1503/1503 [==============================] - 1s 398us/sample - loss: 0.3598 - val_loss: 0.5962\n",
      "Epoch 65/70\n",
      "1503/1503 [==============================] - 1s 400us/sample - loss: 0.3589 - val_loss: 0.5775\n",
      "Epoch 66/70\n",
      "1503/1503 [==============================] - 1s 403us/sample - loss: 0.3539 - val_loss: 0.5526\n",
      "Epoch 67/70\n",
      "1503/1503 [==============================] - 1s 453us/sample - loss: 0.3427 - val_loss: 0.5593\n",
      "Epoch 68/70\n",
      "1503/1503 [==============================] - 1s 498us/sample - loss: 0.3389 - val_loss: 0.5713\n",
      "Epoch 69/70\n",
      "1503/1503 [==============================] - 1s 432us/sample - loss: 0.3399 - val_loss: 0.5604\n",
      "Epoch 70/70\n",
      "1503/1503 [==============================] - 1s 392us/sample - loss: 0.3386 - val_loss: 0.5646\n"
     ]
    }
   ],
   "source": [
    "# trainig : \n",
    "label_train = to_categorical(df_train['label']+1)\n",
    "label_dev = to_categorical(df_dev['label']+1)\n",
    "\n",
    "history_signal = model.fit((train_sentences_emb3,categories_train) ,\n",
    "                                          label_train,\n",
    "                                          epochs=70,\n",
    "                                          batch_size=124,\n",
    "                                          validation_data=((dev_sentences_emb3,categories_dev),label_dev),\n",
    "                                          verbose=1)"
   ]
  },
  {
   "cell_type": "code",
   "execution_count": 76,
   "metadata": {},
   "outputs": [],
   "source": [
    "y_pred = model.predict((dev_sentences_emb3,categories_dev))\n",
    "from sklearn.metrics import accuracy_score\n",
    "y_pred = np.argmax(y_pred, axis=1)-1\n",
    "from sklearn.metrics import f1_score"
   ]
  },
  {
   "cell_type": "code",
   "execution_count": 77,
   "metadata": {},
   "outputs": [
    {
     "data": {
      "text/plain": [
       "0.776595744680851"
      ]
     },
     "execution_count": 77,
     "metadata": {},
     "output_type": "execute_result"
    }
   ],
   "source": [
    "from tensorflow.keras.utils import to_categorical\n",
    "from sklearn.metrics import accuracy_score\n",
    "accuracy_score(y_true=df_dev['label'],y_pred=y_pred)"
   ]
  },
  {
   "cell_type": "code",
   "execution_count": 230,
   "metadata": {},
   "outputs": [
    {
     "data": {
      "text/plain": [
       "array([[0., 0., 1.],\n",
       "       [1., 0., 0.],\n",
       "       [0., 0., 1.],\n",
       "       ...,\n",
       "       [0., 0., 1.],\n",
       "       [1., 0., 0.],\n",
       "       [0., 0., 1.]], dtype=float32)"
      ]
     },
     "execution_count": 230,
     "metadata": {},
     "output_type": "execute_result"
    }
   ],
   "source": [
    "to_categorical(df_dev['label']+1)"
   ]
  }
 ],
 "metadata": {
  "kernelspec": {
   "display_name": "Python 3",
   "language": "python",
   "name": "python3"
  },
  "language_info": {
   "codemirror_mode": {
    "name": "ipython",
    "version": 3
   },
   "file_extension": ".py",
   "mimetype": "text/x-python",
   "name": "python",
   "nbconvert_exporter": "python",
   "pygments_lexer": "ipython3",
   "version": "3.7.1"
  }
 },
 "nbformat": 4,
 "nbformat_minor": 2
}
